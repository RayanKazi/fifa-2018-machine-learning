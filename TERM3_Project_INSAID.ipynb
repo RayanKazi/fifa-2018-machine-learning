{
  "nbformat": 4,
  "nbformat_minor": 0,
  "metadata": {
    "accelerator": "GPU",
    "colab": {
      "name": "TERM3_Project_INSAID.ipynb",
      "provenance": [],
      "collapsed_sections": []
    },
    "kernelspec": {
      "display_name": "Python 3",
      "name": "python3"
    }
  },
  "cells": [
    {
      "cell_type": "code",
      "metadata": {
        "id": "hCY71RZt1Sum"
      },
      "source": [
        "# Jovian Commit Essentials\n",
        "# Please retain and execute this cell without modifying the contents for `jovian.commit` to work\n",
        "!pip install jovian --upgrade -q\n",
        "import jovian\n",
        "jovian.set_project('man-of-the-match-fifa-2018')\n",
        "jovian.set_colab_id('1Ax5apIdVzE2o4AXvubneCZjDtBXpRALh')"
      ],
      "execution_count": null,
      "outputs": []
    },
    {
      "cell_type": "markdown",
      "metadata": {
        "id": "jDG0d27jy0A_"
      },
      "source": [
        "# **Predict Man of the Match FIFA 2018** \r\n",
        "\r\n",
        "**About the Project:** The _**objective**_ of this project is to apply the knowledge and skills, acquired during the _Global Certificate of Data Science and AI (GCDAI)_ program provided by _INSAID_, to a real world scenario. Following _**skills**_ were demonstrated:\r\n",
        "- Data Cleaning\r\n",
        "- Exploratory Data Analysis\r\n",
        "- Feature Engineering\r\n",
        "- Machine Learning\r\n",
        "\r\n",
        "**About Me:**  \r\n",
        "_(10th February, 2021)_"
      ]
    },
    {
      "cell_type": "markdown",
      "metadata": {
        "id": "vCSR3RVq0THo"
      },
      "source": [
        "## **Problem Statement**\r\n",
        "\r\n",
        "> - Football Federation organizes world cup every four years and they collect statistics report about different playing countries and their players.\r\n",
        ">\r\n",
        "> - They always spend a lot of time going through the statistics report manually to find the player with the best performance and reward him with the title of man of the match.\r\n",
        ">\r\n",
        "> - Recent they have released this stat to the public and one of football fanatic company called DreamFootball has taken up the challenge of predicting the outcome before they announce the title of man of the match.\r\n",
        ">\r\n",
        "> - They have hired a group of data scientist to do this task, consider you as one of them.\r\n",
        ">\r\n",
        "> - **Predict which team member will win Man of the Match award based on the given statistics of FIFA 2018.**"
      ]
    },
    {
      "cell_type": "code",
      "metadata": {
        "id": "0y35POZbQ4rG"
      },
      "source": [
        "# Import required libraries\r\n",
        "\r\n",
        "import numpy as np\r\n",
        "import pandas as pd\r\n",
        "\r\n",
        "import matplotlib\r\n",
        "import matplotlib.pyplot as plt\r\n",
        "import seaborn as sns\r\n",
        "%matplotlib inline\r\n",
        "\r\n",
        "sns.set_style('darkgrid')\r\n",
        "matplotlib.rcParams['font.size'] = 14\r\n",
        "matplotlib.rcParams['figure.figsize'] = (9, 5)\r\n",
        "matplotlib.rcParams['figure.facecolor'] = '#00000000'\r\n",
        "\r\n",
        "import warnings\r\n",
        "warnings.filterwarnings('ignore')\r\n",
        "#warnings.filterwarnings(action='once')\r\n",
        "\r\n"
      ],
      "execution_count": null,
      "outputs": []
    },
    {
      "cell_type": "markdown",
      "metadata": {
        "id": "RZD0rQ4OQ8Dz"
      },
      "source": [
        "## **Data Acquisition and Description**"
      ]
    },
    {
      "cell_type": "markdown",
      "metadata": {
        "id": "5I7aHV-zGRPp"
      },
      "source": [
        "### **Data Acquisition**"
      ]
    },
    {
      "cell_type": "code",
      "metadata": {
        "colab": {
          "base_uri": "https://localhost:8080/",
          "height": 434
        },
        "id": "Ylr7wSOeS6vi",
        "outputId": "a1c21f88-3cfa-448f-b501-33d0e4c7f143"
      },
      "source": [
        "# Data acquisition\r\n",
        "\r\n",
        "dataset_url = 'https://raw.githubusercontent.com/insaid2018/Term-2/master/Projects/FIFA%202018%20Statistics.csv'\r\n",
        "data_df = pd.read_csv(dataset_url)\r\n",
        "data_df.sample(5)"
      ],
      "execution_count": null,
      "outputs": [
        {
          "output_type": "execute_result",
          "data": {
            "text/html": [
              "<div>\n",
              "<style scoped>\n",
              "    .dataframe tbody tr th:only-of-type {\n",
              "        vertical-align: middle;\n",
              "    }\n",
              "\n",
              "    .dataframe tbody tr th {\n",
              "        vertical-align: top;\n",
              "    }\n",
              "\n",
              "    .dataframe thead th {\n",
              "        text-align: right;\n",
              "    }\n",
              "</style>\n",
              "<table border=\"1\" class=\"dataframe\">\n",
              "  <thead>\n",
              "    <tr style=\"text-align: right;\">\n",
              "      <th></th>\n",
              "      <th>Date</th>\n",
              "      <th>Team</th>\n",
              "      <th>Opponent</th>\n",
              "      <th>Goal Scored</th>\n",
              "      <th>Ball Possession %</th>\n",
              "      <th>Attempts</th>\n",
              "      <th>On-Target</th>\n",
              "      <th>Off-Target</th>\n",
              "      <th>Blocked</th>\n",
              "      <th>Corners</th>\n",
              "      <th>Offsides</th>\n",
              "      <th>Free Kicks</th>\n",
              "      <th>Saves</th>\n",
              "      <th>Pass Accuracy %</th>\n",
              "      <th>Passes</th>\n",
              "      <th>Distance Covered (Kms)</th>\n",
              "      <th>Fouls Committed</th>\n",
              "      <th>Yellow Card</th>\n",
              "      <th>Yellow &amp; Red</th>\n",
              "      <th>Red</th>\n",
              "      <th>Man of the Match</th>\n",
              "      <th>1st Goal</th>\n",
              "      <th>Round</th>\n",
              "      <th>PSO</th>\n",
              "      <th>Goals in PSO</th>\n",
              "      <th>Own goals</th>\n",
              "      <th>Own goal Time</th>\n",
              "    </tr>\n",
              "  </thead>\n",
              "  <tbody>\n",
              "    <tr>\n",
              "      <th>45</th>\n",
              "      <td>21-06-2018</td>\n",
              "      <td>Croatia</td>\n",
              "      <td>Argentina</td>\n",
              "      <td>3</td>\n",
              "      <td>42</td>\n",
              "      <td>15</td>\n",
              "      <td>5</td>\n",
              "      <td>6</td>\n",
              "      <td>4</td>\n",
              "      <td>2</td>\n",
              "      <td>3</td>\n",
              "      <td>18</td>\n",
              "      <td>3</td>\n",
              "      <td>80</td>\n",
              "      <td>372</td>\n",
              "      <td>104</td>\n",
              "      <td>23</td>\n",
              "      <td>4</td>\n",
              "      <td>0</td>\n",
              "      <td>0</td>\n",
              "      <td>Yes</td>\n",
              "      <td>53.0</td>\n",
              "      <td>Group Stage</td>\n",
              "      <td>No</td>\n",
              "      <td>0</td>\n",
              "      <td>NaN</td>\n",
              "      <td>NaN</td>\n",
              "    </tr>\n",
              "    <tr>\n",
              "      <th>51</th>\n",
              "      <td>22-06-2018</td>\n",
              "      <td>Switzerland</td>\n",
              "      <td>Serbia</td>\n",
              "      <td>2</td>\n",
              "      <td>58</td>\n",
              "      <td>20</td>\n",
              "      <td>5</td>\n",
              "      <td>8</td>\n",
              "      <td>7</td>\n",
              "      <td>7</td>\n",
              "      <td>3</td>\n",
              "      <td>17</td>\n",
              "      <td>2</td>\n",
              "      <td>87</td>\n",
              "      <td>547</td>\n",
              "      <td>112</td>\n",
              "      <td>12</td>\n",
              "      <td>1</td>\n",
              "      <td>0</td>\n",
              "      <td>0</td>\n",
              "      <td>Yes</td>\n",
              "      <td>52.0</td>\n",
              "      <td>Group Stage</td>\n",
              "      <td>No</td>\n",
              "      <td>0</td>\n",
              "      <td>NaN</td>\n",
              "      <td>NaN</td>\n",
              "    </tr>\n",
              "    <tr>\n",
              "      <th>89</th>\n",
              "      <td>28-06-2018</td>\n",
              "      <td>Poland</td>\n",
              "      <td>Japan</td>\n",
              "      <td>1</td>\n",
              "      <td>46</td>\n",
              "      <td>11</td>\n",
              "      <td>2</td>\n",
              "      <td>5</td>\n",
              "      <td>4</td>\n",
              "      <td>7</td>\n",
              "      <td>0</td>\n",
              "      <td>12</td>\n",
              "      <td>3</td>\n",
              "      <td>83</td>\n",
              "      <td>462</td>\n",
              "      <td>80</td>\n",
              "      <td>8</td>\n",
              "      <td>0</td>\n",
              "      <td>0</td>\n",
              "      <td>0</td>\n",
              "      <td>Yes</td>\n",
              "      <td>59.0</td>\n",
              "      <td>Group Stage</td>\n",
              "      <td>No</td>\n",
              "      <td>0</td>\n",
              "      <td>NaN</td>\n",
              "      <td>NaN</td>\n",
              "    </tr>\n",
              "    <tr>\n",
              "      <th>67</th>\n",
              "      <td>25-06-2018</td>\n",
              "      <td>Egypt</td>\n",
              "      <td>Saudi Arabia</td>\n",
              "      <td>1</td>\n",
              "      <td>39</td>\n",
              "      <td>8</td>\n",
              "      <td>1</td>\n",
              "      <td>6</td>\n",
              "      <td>1</td>\n",
              "      <td>2</td>\n",
              "      <td>3</td>\n",
              "      <td>8</td>\n",
              "      <td>5</td>\n",
              "      <td>82</td>\n",
              "      <td>357</td>\n",
              "      <td>106</td>\n",
              "      <td>16</td>\n",
              "      <td>2</td>\n",
              "      <td>0</td>\n",
              "      <td>0</td>\n",
              "      <td>Yes</td>\n",
              "      <td>22.0</td>\n",
              "      <td>Group Stage</td>\n",
              "      <td>No</td>\n",
              "      <td>0</td>\n",
              "      <td>NaN</td>\n",
              "      <td>NaN</td>\n",
              "    </tr>\n",
              "    <tr>\n",
              "      <th>13</th>\n",
              "      <td>16-06-2018</td>\n",
              "      <td>Denmark</td>\n",
              "      <td>Peru</td>\n",
              "      <td>1</td>\n",
              "      <td>48</td>\n",
              "      <td>10</td>\n",
              "      <td>3</td>\n",
              "      <td>5</td>\n",
              "      <td>2</td>\n",
              "      <td>7</td>\n",
              "      <td>3</td>\n",
              "      <td>15</td>\n",
              "      <td>6</td>\n",
              "      <td>82</td>\n",
              "      <td>342</td>\n",
              "      <td>110</td>\n",
              "      <td>18</td>\n",
              "      <td>2</td>\n",
              "      <td>0</td>\n",
              "      <td>0</td>\n",
              "      <td>Yes</td>\n",
              "      <td>59.0</td>\n",
              "      <td>Group Stage</td>\n",
              "      <td>No</td>\n",
              "      <td>0</td>\n",
              "      <td>NaN</td>\n",
              "      <td>NaN</td>\n",
              "    </tr>\n",
              "  </tbody>\n",
              "</table>\n",
              "</div>"
            ],
            "text/plain": [
              "          Date         Team  ... Own goals  Own goal Time\n",
              "45  21-06-2018      Croatia  ...       NaN            NaN\n",
              "51  22-06-2018  Switzerland  ...       NaN            NaN\n",
              "89  28-06-2018       Poland  ...       NaN            NaN\n",
              "67  25-06-2018        Egypt  ...       NaN            NaN\n",
              "13  16-06-2018      Denmark  ...       NaN            NaN\n",
              "\n",
              "[5 rows x 27 columns]"
            ]
          },
          "metadata": {
            "tags": []
          },
          "execution_count": 3
        }
      ]
    },
    {
      "cell_type": "markdown",
      "metadata": {
        "id": "5SXvluPSGe5_"
      },
      "source": [
        "### **Dataset Description**"
      ]
    },
    {
      "cell_type": "markdown",
      "metadata": {
        "id": "1_w_0cHYWJBi"
      },
      "source": [
        "|Column |\tDescription|\r\n",
        "|----|----|\r\n",
        "Date\t|match Date\r\n",
        "Team\t|Playing Team\r\n",
        "Opponent\t|Opponent Team\r\n",
        "Goal Scored\t|Number of goals scored by this team\r\n",
        "Ball Possession\t% |Amount of time ball was in control by the team\r\n",
        "Attempts\t|Number of attempts to score goal\r\n",
        "On-Target |Number of shots on-target\r\n",
        "Off-Target  |Number of shots that went off-target\r\n",
        "Blocked\t|Number of attempts blocked by the opponent's team\r\n",
        "Corners\t|Number of corner shots used\r\n",
        "Offsides\t|Number of off-side events\r\n",
        "Free Kicks\t|Number of free-kicks used\r\n",
        "Saves |Number\tof saves by the goal keeper\r\n",
        "Pass Accuracy\t% |Percentage of passes that reached the same team player as aimed\r\n",
        "Passes\t|Total number of passes by the team\r\n",
        "Distance Covered (Kms)\t|Total distance covered by the team members in this game\r\n",
        "Fouls Committed\t|Number of fouls committed by the team members\r\n",
        "Yellow Card\t|Number of Yellow warning received\r\n",
        "Yellow & Red\t|Number of Yellow & Red warning received\r\n",
        "Red\t|Number of Red cards received\r\n",
        "Man of the Match\t|Did this team member win Man of the Match?\r\n",
        "1st Goal\t|When did the team score the 1st goal?\r\n",
        "Round\t|Stage of the match\r\n",
        "PSO\t|Was there a penalty shootout (PSO) in this match?\r\n",
        "Goals in PSO\t|Number of goals scored in the Penalty shootout\r\n",
        "Own goals\t|Number of own goals\r\n",
        "Own goal Time\t|When did the team score own goal?"
      ]
    },
    {
      "cell_type": "markdown",
      "metadata": {
        "id": "M1fY4692ggbR"
      },
      "source": [
        "## **EDA for ML**\r\n"
      ]
    },
    {
      "cell_type": "markdown",
      "metadata": {
        "id": "GA83yUTS8UCo"
      },
      "source": [
        "### **Data Pre-Processing**\r\n"
      ]
    },
    {
      "cell_type": "code",
      "metadata": {
        "colab": {
          "base_uri": "https://localhost:8080/"
        },
        "id": "QB26uEqHS6uO",
        "outputId": "380027e5-e4e1-49c3-c7ea-0ca390a6ff77"
      },
      "source": [
        "# Size of the dataset\r\n",
        "\r\n",
        "data_df.shape"
      ],
      "execution_count": null,
      "outputs": [
        {
          "output_type": "execute_result",
          "data": {
            "text/plain": [
              "(128, 27)"
            ]
          },
          "metadata": {
            "tags": []
          },
          "execution_count": 4
        }
      ]
    },
    {
      "cell_type": "code",
      "metadata": {
        "colab": {
          "base_uri": "https://localhost:8080/"
        },
        "id": "sIdN2zq0YmYo",
        "outputId": "b2527d44-dbda-4e59-f573-a1eaeda8ad6c"
      },
      "source": [
        "# Data Information\r\n",
        "\r\n",
        "data_df.info()"
      ],
      "execution_count": null,
      "outputs": [
        {
          "output_type": "stream",
          "text": [
            "<class 'pandas.core.frame.DataFrame'>\n",
            "RangeIndex: 128 entries, 0 to 127\n",
            "Data columns (total 27 columns):\n",
            " #   Column                  Non-Null Count  Dtype  \n",
            "---  ------                  --------------  -----  \n",
            " 0   Date                    128 non-null    object \n",
            " 1   Team                    128 non-null    object \n",
            " 2   Opponent                128 non-null    object \n",
            " 3   Goal Scored             128 non-null    int64  \n",
            " 4   Ball Possession %       128 non-null    int64  \n",
            " 5   Attempts                128 non-null    int64  \n",
            " 6   On-Target               128 non-null    int64  \n",
            " 7   Off-Target              128 non-null    int64  \n",
            " 8   Blocked                 128 non-null    int64  \n",
            " 9   Corners                 128 non-null    int64  \n",
            " 10  Offsides                128 non-null    int64  \n",
            " 11  Free Kicks              128 non-null    int64  \n",
            " 12  Saves                   128 non-null    int64  \n",
            " 13  Pass Accuracy %         128 non-null    int64  \n",
            " 14  Passes                  128 non-null    int64  \n",
            " 15  Distance Covered (Kms)  128 non-null    int64  \n",
            " 16  Fouls Committed         128 non-null    int64  \n",
            " 17  Yellow Card             128 non-null    int64  \n",
            " 18  Yellow & Red            128 non-null    int64  \n",
            " 19  Red                     128 non-null    int64  \n",
            " 20  Man of the Match        128 non-null    object \n",
            " 21  1st Goal                94 non-null     float64\n",
            " 22  Round                   128 non-null    object \n",
            " 23  PSO                     128 non-null    object \n",
            " 24  Goals in PSO            128 non-null    int64  \n",
            " 25  Own goals               12 non-null     float64\n",
            " 26  Own goal Time           12 non-null     float64\n",
            "dtypes: float64(3), int64(18), object(6)\n",
            "memory usage: 27.1+ KB\n"
          ],
          "name": "stdout"
        }
      ]
    },
    {
      "cell_type": "code",
      "metadata": {
        "colab": {
          "base_uri": "https://localhost:8080/",
          "height": 338
        },
        "id": "BWofXa6wUHm-",
        "outputId": "af2042a9-25b7-4fd4-8da4-c945ec34da3d"
      },
      "source": [
        "# Data Description\r\n",
        "\r\n",
        "data_df.describe()\r\n",
        "#data_df.describe(include='all')"
      ],
      "execution_count": null,
      "outputs": [
        {
          "output_type": "execute_result",
          "data": {
            "text/html": [
              "<div>\n",
              "<style scoped>\n",
              "    .dataframe tbody tr th:only-of-type {\n",
              "        vertical-align: middle;\n",
              "    }\n",
              "\n",
              "    .dataframe tbody tr th {\n",
              "        vertical-align: top;\n",
              "    }\n",
              "\n",
              "    .dataframe thead th {\n",
              "        text-align: right;\n",
              "    }\n",
              "</style>\n",
              "<table border=\"1\" class=\"dataframe\">\n",
              "  <thead>\n",
              "    <tr style=\"text-align: right;\">\n",
              "      <th></th>\n",
              "      <th>Goal Scored</th>\n",
              "      <th>Ball Possession %</th>\n",
              "      <th>Attempts</th>\n",
              "      <th>On-Target</th>\n",
              "      <th>Off-Target</th>\n",
              "      <th>Blocked</th>\n",
              "      <th>Corners</th>\n",
              "      <th>Offsides</th>\n",
              "      <th>Free Kicks</th>\n",
              "      <th>Saves</th>\n",
              "      <th>Pass Accuracy %</th>\n",
              "      <th>Passes</th>\n",
              "      <th>Distance Covered (Kms)</th>\n",
              "      <th>Fouls Committed</th>\n",
              "      <th>Yellow Card</th>\n",
              "      <th>Yellow &amp; Red</th>\n",
              "      <th>Red</th>\n",
              "      <th>1st Goal</th>\n",
              "      <th>Goals in PSO</th>\n",
              "      <th>Own goals</th>\n",
              "      <th>Own goal Time</th>\n",
              "    </tr>\n",
              "  </thead>\n",
              "  <tbody>\n",
              "    <tr>\n",
              "      <th>count</th>\n",
              "      <td>128.000000</td>\n",
              "      <td>128.000000</td>\n",
              "      <td>128.000000</td>\n",
              "      <td>128.000000</td>\n",
              "      <td>128.000000</td>\n",
              "      <td>128.000000</td>\n",
              "      <td>128.000000</td>\n",
              "      <td>128.000000</td>\n",
              "      <td>128.000000</td>\n",
              "      <td>128.000000</td>\n",
              "      <td>128.000000</td>\n",
              "      <td>128.000000</td>\n",
              "      <td>128.000000</td>\n",
              "      <td>128.000000</td>\n",
              "      <td>128.000000</td>\n",
              "      <td>128.000000</td>\n",
              "      <td>128.000000</td>\n",
              "      <td>94.000000</td>\n",
              "      <td>128.000000</td>\n",
              "      <td>12.0</td>\n",
              "      <td>12.000000</td>\n",
              "    </tr>\n",
              "    <tr>\n",
              "      <th>mean</th>\n",
              "      <td>1.320312</td>\n",
              "      <td>49.992188</td>\n",
              "      <td>12.593750</td>\n",
              "      <td>3.914062</td>\n",
              "      <td>5.273438</td>\n",
              "      <td>3.359375</td>\n",
              "      <td>4.718750</td>\n",
              "      <td>1.343750</td>\n",
              "      <td>14.890625</td>\n",
              "      <td>2.726562</td>\n",
              "      <td>82.554688</td>\n",
              "      <td>462.648438</td>\n",
              "      <td>106.664062</td>\n",
              "      <td>13.546875</td>\n",
              "      <td>1.695312</td>\n",
              "      <td>0.015625</td>\n",
              "      <td>0.015625</td>\n",
              "      <td>39.457447</td>\n",
              "      <td>0.203125</td>\n",
              "      <td>1.0</td>\n",
              "      <td>45.833333</td>\n",
              "    </tr>\n",
              "    <tr>\n",
              "      <th>std</th>\n",
              "      <td>1.156519</td>\n",
              "      <td>10.444074</td>\n",
              "      <td>5.245827</td>\n",
              "      <td>2.234403</td>\n",
              "      <td>2.409675</td>\n",
              "      <td>2.403195</td>\n",
              "      <td>2.446072</td>\n",
              "      <td>1.193404</td>\n",
              "      <td>4.724262</td>\n",
              "      <td>2.049447</td>\n",
              "      <td>5.933766</td>\n",
              "      <td>151.186311</td>\n",
              "      <td>11.749537</td>\n",
              "      <td>4.619131</td>\n",
              "      <td>1.325454</td>\n",
              "      <td>0.124507</td>\n",
              "      <td>0.124507</td>\n",
              "      <td>24.496506</td>\n",
              "      <td>0.807049</td>\n",
              "      <td>0.0</td>\n",
              "      <td>29.978275</td>\n",
              "    </tr>\n",
              "    <tr>\n",
              "      <th>min</th>\n",
              "      <td>0.000000</td>\n",
              "      <td>25.000000</td>\n",
              "      <td>3.000000</td>\n",
              "      <td>0.000000</td>\n",
              "      <td>1.000000</td>\n",
              "      <td>0.000000</td>\n",
              "      <td>0.000000</td>\n",
              "      <td>0.000000</td>\n",
              "      <td>5.000000</td>\n",
              "      <td>0.000000</td>\n",
              "      <td>67.000000</td>\n",
              "      <td>189.000000</td>\n",
              "      <td>80.000000</td>\n",
              "      <td>5.000000</td>\n",
              "      <td>0.000000</td>\n",
              "      <td>0.000000</td>\n",
              "      <td>0.000000</td>\n",
              "      <td>1.000000</td>\n",
              "      <td>0.000000</td>\n",
              "      <td>1.0</td>\n",
              "      <td>12.000000</td>\n",
              "    </tr>\n",
              "    <tr>\n",
              "      <th>25%</th>\n",
              "      <td>0.000000</td>\n",
              "      <td>42.000000</td>\n",
              "      <td>9.000000</td>\n",
              "      <td>2.000000</td>\n",
              "      <td>4.000000</td>\n",
              "      <td>1.750000</td>\n",
              "      <td>3.000000</td>\n",
              "      <td>0.000000</td>\n",
              "      <td>11.000000</td>\n",
              "      <td>1.000000</td>\n",
              "      <td>79.000000</td>\n",
              "      <td>351.000000</td>\n",
              "      <td>101.000000</td>\n",
              "      <td>10.000000</td>\n",
              "      <td>1.000000</td>\n",
              "      <td>0.000000</td>\n",
              "      <td>0.000000</td>\n",
              "      <td>18.250000</td>\n",
              "      <td>0.000000</td>\n",
              "      <td>1.0</td>\n",
              "      <td>21.750000</td>\n",
              "    </tr>\n",
              "    <tr>\n",
              "      <th>50%</th>\n",
              "      <td>1.000000</td>\n",
              "      <td>50.000000</td>\n",
              "      <td>12.000000</td>\n",
              "      <td>3.500000</td>\n",
              "      <td>5.000000</td>\n",
              "      <td>3.000000</td>\n",
              "      <td>5.000000</td>\n",
              "      <td>1.000000</td>\n",
              "      <td>15.000000</td>\n",
              "      <td>2.000000</td>\n",
              "      <td>83.000000</td>\n",
              "      <td>462.000000</td>\n",
              "      <td>104.500000</td>\n",
              "      <td>13.000000</td>\n",
              "      <td>2.000000</td>\n",
              "      <td>0.000000</td>\n",
              "      <td>0.000000</td>\n",
              "      <td>39.000000</td>\n",
              "      <td>0.000000</td>\n",
              "      <td>1.0</td>\n",
              "      <td>35.000000</td>\n",
              "    </tr>\n",
              "    <tr>\n",
              "      <th>75%</th>\n",
              "      <td>2.000000</td>\n",
              "      <td>58.000000</td>\n",
              "      <td>15.000000</td>\n",
              "      <td>5.000000</td>\n",
              "      <td>7.000000</td>\n",
              "      <td>4.000000</td>\n",
              "      <td>6.000000</td>\n",
              "      <td>2.000000</td>\n",
              "      <td>18.000000</td>\n",
              "      <td>4.000000</td>\n",
              "      <td>87.000000</td>\n",
              "      <td>555.250000</td>\n",
              "      <td>109.000000</td>\n",
              "      <td>16.000000</td>\n",
              "      <td>2.000000</td>\n",
              "      <td>0.000000</td>\n",
              "      <td>0.000000</td>\n",
              "      <td>54.750000</td>\n",
              "      <td>0.000000</td>\n",
              "      <td>1.0</td>\n",
              "      <td>75.750000</td>\n",
              "    </tr>\n",
              "    <tr>\n",
              "      <th>max</th>\n",
              "      <td>6.000000</td>\n",
              "      <td>75.000000</td>\n",
              "      <td>26.000000</td>\n",
              "      <td>12.000000</td>\n",
              "      <td>11.000000</td>\n",
              "      <td>10.000000</td>\n",
              "      <td>11.000000</td>\n",
              "      <td>5.000000</td>\n",
              "      <td>26.000000</td>\n",
              "      <td>9.000000</td>\n",
              "      <td>94.000000</td>\n",
              "      <td>1137.000000</td>\n",
              "      <td>148.000000</td>\n",
              "      <td>25.000000</td>\n",
              "      <td>6.000000</td>\n",
              "      <td>1.000000</td>\n",
              "      <td>1.000000</td>\n",
              "      <td>90.000000</td>\n",
              "      <td>4.000000</td>\n",
              "      <td>1.0</td>\n",
              "      <td>90.000000</td>\n",
              "    </tr>\n",
              "  </tbody>\n",
              "</table>\n",
              "</div>"
            ],
            "text/plain": [
              "       Goal Scored  Ball Possession %  ...  Own goals  Own goal Time\n",
              "count   128.000000         128.000000  ...       12.0      12.000000\n",
              "mean      1.320312          49.992188  ...        1.0      45.833333\n",
              "std       1.156519          10.444074  ...        0.0      29.978275\n",
              "min       0.000000          25.000000  ...        1.0      12.000000\n",
              "25%       0.000000          42.000000  ...        1.0      21.750000\n",
              "50%       1.000000          50.000000  ...        1.0      35.000000\n",
              "75%       2.000000          58.000000  ...        1.0      75.750000\n",
              "max       6.000000          75.000000  ...        1.0      90.000000\n",
              "\n",
              "[8 rows x 21 columns]"
            ]
          },
          "metadata": {
            "tags": []
          },
          "execution_count": 6
        }
      ]
    },
    {
      "cell_type": "markdown",
      "metadata": {
        "id": "Rf0n7N8gCxU5"
      },
      "source": [
        "- The dataset seems to be accurate, free from outliers.\r\n",
        "- It contains some `NaN` values, inplace where the team didn't score."
      ]
    },
    {
      "cell_type": "markdown",
      "metadata": {
        "id": "s09IzhhR2O6T"
      },
      "source": [
        "\r\n",
        "### **Data Cleaning**\r\n",
        "- Convert the `'Date'`column from `object` dtype to `datetime64[ns]`.\r\n",
        "- Drop unwanted & corelated columns `['Date', 'Team', 'Opponent', 'Ball Possession %', 'Round', 'Offsides', 'Passes', 'Saves', 'Distance Covered (Kms)', 'Yellow Card', 'Yellow & Red', 'Red', 'PSO', 'Goals in PSO', 'Own goal Time', '1st Goal', 'Own goals']`.\r\n",
        "- In column `data_df['Man of the Match']`, replace `Yes` & `No` with `1` & `0` respectively.\r\n"
      ]
    },
    {
      "cell_type": "code",
      "metadata": {
        "colab": {
          "base_uri": "https://localhost:8080/"
        },
        "id": "lr1BLcyPzq5h",
        "outputId": "ab2cc0ee-44f1-4069-a14f-b8cf7b28838d"
      },
      "source": [
        "# Convert object type to datetime\r\n",
        "\r\n",
        "data_df['Date'] = pd.to_datetime(data_df['Date'])\r\n",
        "data_df.Date.dtype"
      ],
      "execution_count": null,
      "outputs": [
        {
          "output_type": "execute_result",
          "data": {
            "text/plain": [
              "dtype('<M8[ns]')"
            ]
          },
          "metadata": {
            "tags": []
          },
          "execution_count": 7
        }
      ]
    },
    {
      "cell_type": "code",
      "metadata": {
        "colab": {
          "base_uri": "https://localhost:8080/",
          "height": 106
        },
        "id": "sRlY0sUX83Uk",
        "outputId": "fdc99bea-4d88-4f77-c394-0e1ea77e7eee"
      },
      "source": [
        "# Drop unwanted columns ['Date', 'Team', 'Opponent', 'Ball Possession %', 'Round', 'Offsides', 'Passes', 'Saves', 'Distance Covered (Kms)', 'Yellow Card', 'Yellow & Red', 'Red', 'PSO', 'Goals in PSO', 'Own goal Time', '1st Goal', 'Own goals']\r\n",
        "\r\n",
        "training_features = data_df.drop(['Date', 'Team', 'Opponent', 'Ball Possession %', 'Round', 'Offsides', 'Passes', 'Saves', 'Distance Covered (Kms)', 'Yellow Card', 'Yellow & Red', 'Red', 'PSO', 'Goals in PSO', 'Own goal Time', '1st Goal', 'Own goals'], axis = 1) \r\n",
        "training_features.head(2)"
      ],
      "execution_count": null,
      "outputs": [
        {
          "output_type": "execute_result",
          "data": {
            "text/html": [
              "<div>\n",
              "<style scoped>\n",
              "    .dataframe tbody tr th:only-of-type {\n",
              "        vertical-align: middle;\n",
              "    }\n",
              "\n",
              "    .dataframe tbody tr th {\n",
              "        vertical-align: top;\n",
              "    }\n",
              "\n",
              "    .dataframe thead th {\n",
              "        text-align: right;\n",
              "    }\n",
              "</style>\n",
              "<table border=\"1\" class=\"dataframe\">\n",
              "  <thead>\n",
              "    <tr style=\"text-align: right;\">\n",
              "      <th></th>\n",
              "      <th>Goal Scored</th>\n",
              "      <th>Attempts</th>\n",
              "      <th>On-Target</th>\n",
              "      <th>Off-Target</th>\n",
              "      <th>Blocked</th>\n",
              "      <th>Corners</th>\n",
              "      <th>Free Kicks</th>\n",
              "      <th>Pass Accuracy %</th>\n",
              "      <th>Fouls Committed</th>\n",
              "      <th>Man of the Match</th>\n",
              "    </tr>\n",
              "  </thead>\n",
              "  <tbody>\n",
              "    <tr>\n",
              "      <th>0</th>\n",
              "      <td>5</td>\n",
              "      <td>13</td>\n",
              "      <td>7</td>\n",
              "      <td>3</td>\n",
              "      <td>3</td>\n",
              "      <td>6</td>\n",
              "      <td>11</td>\n",
              "      <td>78</td>\n",
              "      <td>22</td>\n",
              "      <td>Yes</td>\n",
              "    </tr>\n",
              "    <tr>\n",
              "      <th>1</th>\n",
              "      <td>0</td>\n",
              "      <td>6</td>\n",
              "      <td>0</td>\n",
              "      <td>3</td>\n",
              "      <td>3</td>\n",
              "      <td>2</td>\n",
              "      <td>25</td>\n",
              "      <td>86</td>\n",
              "      <td>10</td>\n",
              "      <td>No</td>\n",
              "    </tr>\n",
              "  </tbody>\n",
              "</table>\n",
              "</div>"
            ],
            "text/plain": [
              "   Goal Scored  Attempts  ...  Fouls Committed  Man of the Match\n",
              "0            5        13  ...               22               Yes\n",
              "1            0         6  ...               10                No\n",
              "\n",
              "[2 rows x 10 columns]"
            ]
          },
          "metadata": {
            "tags": []
          },
          "execution_count": 8
        }
      ]
    },
    {
      "cell_type": "code",
      "metadata": {
        "colab": {
          "base_uri": "https://localhost:8080/",
          "height": 106
        },
        "id": "NFtuDF_g5sD7",
        "outputId": "b93ba216-d316-485e-cdc6-4d0ef0c82a84"
      },
      "source": [
        "# In column data_df['Man of the Match'], replace Yes & No with 1 & 0 respectively.\r\n",
        "\r\n",
        "training_features['Man of the Match'].replace(['Yes', 'No'], [1, 0], inplace=True)\r\n",
        "training_features.head(2)"
      ],
      "execution_count": null,
      "outputs": [
        {
          "output_type": "execute_result",
          "data": {
            "text/html": [
              "<div>\n",
              "<style scoped>\n",
              "    .dataframe tbody tr th:only-of-type {\n",
              "        vertical-align: middle;\n",
              "    }\n",
              "\n",
              "    .dataframe tbody tr th {\n",
              "        vertical-align: top;\n",
              "    }\n",
              "\n",
              "    .dataframe thead th {\n",
              "        text-align: right;\n",
              "    }\n",
              "</style>\n",
              "<table border=\"1\" class=\"dataframe\">\n",
              "  <thead>\n",
              "    <tr style=\"text-align: right;\">\n",
              "      <th></th>\n",
              "      <th>Goal Scored</th>\n",
              "      <th>Attempts</th>\n",
              "      <th>On-Target</th>\n",
              "      <th>Off-Target</th>\n",
              "      <th>Blocked</th>\n",
              "      <th>Corners</th>\n",
              "      <th>Free Kicks</th>\n",
              "      <th>Pass Accuracy %</th>\n",
              "      <th>Fouls Committed</th>\n",
              "      <th>Man of the Match</th>\n",
              "    </tr>\n",
              "  </thead>\n",
              "  <tbody>\n",
              "    <tr>\n",
              "      <th>0</th>\n",
              "      <td>5</td>\n",
              "      <td>13</td>\n",
              "      <td>7</td>\n",
              "      <td>3</td>\n",
              "      <td>3</td>\n",
              "      <td>6</td>\n",
              "      <td>11</td>\n",
              "      <td>78</td>\n",
              "      <td>22</td>\n",
              "      <td>1</td>\n",
              "    </tr>\n",
              "    <tr>\n",
              "      <th>1</th>\n",
              "      <td>0</td>\n",
              "      <td>6</td>\n",
              "      <td>0</td>\n",
              "      <td>3</td>\n",
              "      <td>3</td>\n",
              "      <td>2</td>\n",
              "      <td>25</td>\n",
              "      <td>86</td>\n",
              "      <td>10</td>\n",
              "      <td>0</td>\n",
              "    </tr>\n",
              "  </tbody>\n",
              "</table>\n",
              "</div>"
            ],
            "text/plain": [
              "   Goal Scored  Attempts  ...  Fouls Committed  Man of the Match\n",
              "0            5        13  ...               22                 1\n",
              "1            0         6  ...               10                 0\n",
              "\n",
              "[2 rows x 10 columns]"
            ]
          },
          "metadata": {
            "tags": []
          },
          "execution_count": 9
        }
      ]
    },
    {
      "cell_type": "markdown",
      "metadata": {
        "id": "Keatv_VgqN7i"
      },
      "source": [
        "### **Feature Engineering**\r\n",
        "\r\n",
        "- **_Efficient Attempts_** calculates the efficiency of attempts attempted by the team.   \r\n",
        "`Attempts =  On-Target + Off-Target + Blocked`  \r\n",
        "`Efficient Attempts = On-Target / Attempts`\r\n",
        "- **_Fouls Advantage_** caculates the advantage of team over opponent's team in terms of fouls committed.   \r\n",
        "`Fouls Advantage = Free Kicks - Fouls Committed`\r\n"
      ]
    },
    {
      "cell_type": "code",
      "metadata": {
        "colab": {
          "base_uri": "https://localhost:8080/",
          "height": 106
        },
        "id": "JZryDxzO_qDw",
        "outputId": "874f2887-5600-42d2-d31a-8d3e15790c01"
      },
      "source": [
        "# Efficient Attempts = On-Target / Attempts\r\n",
        "\r\n",
        "training_features['Efficient Attempts'] = round((training_features['On-Target'] / training_features['Attempts'] * 100), 1)\r\n",
        "training_features.head(2)"
      ],
      "execution_count": null,
      "outputs": [
        {
          "output_type": "execute_result",
          "data": {
            "text/html": [
              "<div>\n",
              "<style scoped>\n",
              "    .dataframe tbody tr th:only-of-type {\n",
              "        vertical-align: middle;\n",
              "    }\n",
              "\n",
              "    .dataframe tbody tr th {\n",
              "        vertical-align: top;\n",
              "    }\n",
              "\n",
              "    .dataframe thead th {\n",
              "        text-align: right;\n",
              "    }\n",
              "</style>\n",
              "<table border=\"1\" class=\"dataframe\">\n",
              "  <thead>\n",
              "    <tr style=\"text-align: right;\">\n",
              "      <th></th>\n",
              "      <th>Goal Scored</th>\n",
              "      <th>Attempts</th>\n",
              "      <th>On-Target</th>\n",
              "      <th>Off-Target</th>\n",
              "      <th>Blocked</th>\n",
              "      <th>Corners</th>\n",
              "      <th>Free Kicks</th>\n",
              "      <th>Pass Accuracy %</th>\n",
              "      <th>Fouls Committed</th>\n",
              "      <th>Man of the Match</th>\n",
              "      <th>Efficient Attempts</th>\n",
              "    </tr>\n",
              "  </thead>\n",
              "  <tbody>\n",
              "    <tr>\n",
              "      <th>0</th>\n",
              "      <td>5</td>\n",
              "      <td>13</td>\n",
              "      <td>7</td>\n",
              "      <td>3</td>\n",
              "      <td>3</td>\n",
              "      <td>6</td>\n",
              "      <td>11</td>\n",
              "      <td>78</td>\n",
              "      <td>22</td>\n",
              "      <td>1</td>\n",
              "      <td>53.8</td>\n",
              "    </tr>\n",
              "    <tr>\n",
              "      <th>1</th>\n",
              "      <td>0</td>\n",
              "      <td>6</td>\n",
              "      <td>0</td>\n",
              "      <td>3</td>\n",
              "      <td>3</td>\n",
              "      <td>2</td>\n",
              "      <td>25</td>\n",
              "      <td>86</td>\n",
              "      <td>10</td>\n",
              "      <td>0</td>\n",
              "      <td>0.0</td>\n",
              "    </tr>\n",
              "  </tbody>\n",
              "</table>\n",
              "</div>"
            ],
            "text/plain": [
              "   Goal Scored  Attempts  ...  Man of the Match  Efficient Attempts\n",
              "0            5        13  ...                 1                53.8\n",
              "1            0         6  ...                 0                 0.0\n",
              "\n",
              "[2 rows x 11 columns]"
            ]
          },
          "metadata": {
            "tags": []
          },
          "execution_count": 10
        }
      ]
    },
    {
      "cell_type": "code",
      "metadata": {
        "colab": {
          "base_uri": "https://localhost:8080/",
          "height": 106
        },
        "id": "blUy_6PXACjR",
        "outputId": "595aad97-fb99-4ad8-b64f-91805f8a5944"
      },
      "source": [
        "# Fouls Advantage = Free Kicks - Fouls Committed\r\n",
        "\r\n",
        "training_features['Fouls Advantage'] = training_features['Free Kicks']  - training_features['Fouls Committed']\r\n",
        "training_features.head(2)"
      ],
      "execution_count": null,
      "outputs": [
        {
          "output_type": "execute_result",
          "data": {
            "text/html": [
              "<div>\n",
              "<style scoped>\n",
              "    .dataframe tbody tr th:only-of-type {\n",
              "        vertical-align: middle;\n",
              "    }\n",
              "\n",
              "    .dataframe tbody tr th {\n",
              "        vertical-align: top;\n",
              "    }\n",
              "\n",
              "    .dataframe thead th {\n",
              "        text-align: right;\n",
              "    }\n",
              "</style>\n",
              "<table border=\"1\" class=\"dataframe\">\n",
              "  <thead>\n",
              "    <tr style=\"text-align: right;\">\n",
              "      <th></th>\n",
              "      <th>Goal Scored</th>\n",
              "      <th>Attempts</th>\n",
              "      <th>On-Target</th>\n",
              "      <th>Off-Target</th>\n",
              "      <th>Blocked</th>\n",
              "      <th>Corners</th>\n",
              "      <th>Free Kicks</th>\n",
              "      <th>Pass Accuracy %</th>\n",
              "      <th>Fouls Committed</th>\n",
              "      <th>Man of the Match</th>\n",
              "      <th>Efficient Attempts</th>\n",
              "      <th>Fouls Advantage</th>\n",
              "    </tr>\n",
              "  </thead>\n",
              "  <tbody>\n",
              "    <tr>\n",
              "      <th>0</th>\n",
              "      <td>5</td>\n",
              "      <td>13</td>\n",
              "      <td>7</td>\n",
              "      <td>3</td>\n",
              "      <td>3</td>\n",
              "      <td>6</td>\n",
              "      <td>11</td>\n",
              "      <td>78</td>\n",
              "      <td>22</td>\n",
              "      <td>1</td>\n",
              "      <td>53.8</td>\n",
              "      <td>-11</td>\n",
              "    </tr>\n",
              "    <tr>\n",
              "      <th>1</th>\n",
              "      <td>0</td>\n",
              "      <td>6</td>\n",
              "      <td>0</td>\n",
              "      <td>3</td>\n",
              "      <td>3</td>\n",
              "      <td>2</td>\n",
              "      <td>25</td>\n",
              "      <td>86</td>\n",
              "      <td>10</td>\n",
              "      <td>0</td>\n",
              "      <td>0.0</td>\n",
              "      <td>15</td>\n",
              "    </tr>\n",
              "  </tbody>\n",
              "</table>\n",
              "</div>"
            ],
            "text/plain": [
              "   Goal Scored  Attempts  ...  Efficient Attempts  Fouls Advantage\n",
              "0            5        13  ...                53.8              -11\n",
              "1            0         6  ...                 0.0               15\n",
              "\n",
              "[2 rows x 12 columns]"
            ]
          },
          "metadata": {
            "tags": []
          },
          "execution_count": 11
        }
      ]
    },
    {
      "cell_type": "code",
      "metadata": {
        "colab": {
          "base_uri": "https://localhost:8080/",
          "height": 106
        },
        "id": "84lEPlrzALLJ",
        "outputId": "4085475e-cb4e-4bd5-dd87-b7f298fb56a2"
      },
      "source": [
        "# Delete unwanted columns after feature engineering\r\n",
        "\r\n",
        "training_features.drop(['On-Target', 'Off-Target', 'Blocked', 'Attempts', 'Free Kicks', 'Fouls Committed'], axis = 1, inplace=True) \r\n",
        "training_features.head(2)"
      ],
      "execution_count": null,
      "outputs": [
        {
          "output_type": "execute_result",
          "data": {
            "text/html": [
              "<div>\n",
              "<style scoped>\n",
              "    .dataframe tbody tr th:only-of-type {\n",
              "        vertical-align: middle;\n",
              "    }\n",
              "\n",
              "    .dataframe tbody tr th {\n",
              "        vertical-align: top;\n",
              "    }\n",
              "\n",
              "    .dataframe thead th {\n",
              "        text-align: right;\n",
              "    }\n",
              "</style>\n",
              "<table border=\"1\" class=\"dataframe\">\n",
              "  <thead>\n",
              "    <tr style=\"text-align: right;\">\n",
              "      <th></th>\n",
              "      <th>Goal Scored</th>\n",
              "      <th>Corners</th>\n",
              "      <th>Pass Accuracy %</th>\n",
              "      <th>Man of the Match</th>\n",
              "      <th>Efficient Attempts</th>\n",
              "      <th>Fouls Advantage</th>\n",
              "    </tr>\n",
              "  </thead>\n",
              "  <tbody>\n",
              "    <tr>\n",
              "      <th>0</th>\n",
              "      <td>5</td>\n",
              "      <td>6</td>\n",
              "      <td>78</td>\n",
              "      <td>1</td>\n",
              "      <td>53.8</td>\n",
              "      <td>-11</td>\n",
              "    </tr>\n",
              "    <tr>\n",
              "      <th>1</th>\n",
              "      <td>0</td>\n",
              "      <td>2</td>\n",
              "      <td>86</td>\n",
              "      <td>0</td>\n",
              "      <td>0.0</td>\n",
              "      <td>15</td>\n",
              "    </tr>\n",
              "  </tbody>\n",
              "</table>\n",
              "</div>"
            ],
            "text/plain": [
              "   Goal Scored  Corners  ...  Efficient Attempts  Fouls Advantage\n",
              "0            5        6  ...                53.8              -11\n",
              "1            0        2  ...                 0.0               15\n",
              "\n",
              "[2 rows x 6 columns]"
            ]
          },
          "metadata": {
            "tags": []
          },
          "execution_count": 12
        }
      ]
    },
    {
      "cell_type": "markdown",
      "metadata": {
        "id": "QRPHj7iZ8jcb"
      },
      "source": [
        "### **Data Post-Processing**"
      ]
    },
    {
      "cell_type": "code",
      "metadata": {
        "colab": {
          "base_uri": "https://localhost:8080/"
        },
        "id": "IkzKT_Zc8jHN",
        "outputId": "680afa7e-dd76-46a8-b498-638930d2ee32"
      },
      "source": [
        "# Size of the dataset\r\n",
        "\r\n",
        "training_features.shape"
      ],
      "execution_count": null,
      "outputs": [
        {
          "output_type": "execute_result",
          "data": {
            "text/plain": [
              "(128, 6)"
            ]
          },
          "metadata": {
            "tags": []
          },
          "execution_count": 13
        }
      ]
    },
    {
      "cell_type": "code",
      "metadata": {
        "colab": {
          "base_uri": "https://localhost:8080/"
        },
        "id": "FzLbrzTV9IFM",
        "outputId": "1e75d5b4-aeb0-4db3-f3e7-1a5fe92d9b69"
      },
      "source": [
        "# Data Information\r\n",
        "\r\n",
        "training_features.info()"
      ],
      "execution_count": null,
      "outputs": [
        {
          "output_type": "stream",
          "text": [
            "<class 'pandas.core.frame.DataFrame'>\n",
            "RangeIndex: 128 entries, 0 to 127\n",
            "Data columns (total 6 columns):\n",
            " #   Column              Non-Null Count  Dtype  \n",
            "---  ------              --------------  -----  \n",
            " 0   Goal Scored         128 non-null    int64  \n",
            " 1   Corners             128 non-null    int64  \n",
            " 2   Pass Accuracy %     128 non-null    int64  \n",
            " 3   Man of the Match    128 non-null    int64  \n",
            " 4   Efficient Attempts  128 non-null    float64\n",
            " 5   Fouls Advantage     128 non-null    int64  \n",
            "dtypes: float64(1), int64(5)\n",
            "memory usage: 6.1 KB\n"
          ],
          "name": "stdout"
        }
      ]
    },
    {
      "cell_type": "code",
      "metadata": {
        "colab": {
          "base_uri": "https://localhost:8080/",
          "height": 284
        },
        "id": "ShQSVvoQ9Kl8",
        "outputId": "e4218f0e-a1d8-4c2f-8157-2e16c724bd23"
      },
      "source": [
        "# Data Description\r\n",
        "\r\n",
        "training_features.describe()\r\n",
        "#training_features.describe(include='all')"
      ],
      "execution_count": null,
      "outputs": [
        {
          "output_type": "execute_result",
          "data": {
            "text/html": [
              "<div>\n",
              "<style scoped>\n",
              "    .dataframe tbody tr th:only-of-type {\n",
              "        vertical-align: middle;\n",
              "    }\n",
              "\n",
              "    .dataframe tbody tr th {\n",
              "        vertical-align: top;\n",
              "    }\n",
              "\n",
              "    .dataframe thead th {\n",
              "        text-align: right;\n",
              "    }\n",
              "</style>\n",
              "<table border=\"1\" class=\"dataframe\">\n",
              "  <thead>\n",
              "    <tr style=\"text-align: right;\">\n",
              "      <th></th>\n",
              "      <th>Goal Scored</th>\n",
              "      <th>Corners</th>\n",
              "      <th>Pass Accuracy %</th>\n",
              "      <th>Man of the Match</th>\n",
              "      <th>Efficient Attempts</th>\n",
              "      <th>Fouls Advantage</th>\n",
              "    </tr>\n",
              "  </thead>\n",
              "  <tbody>\n",
              "    <tr>\n",
              "      <th>count</th>\n",
              "      <td>128.000000</td>\n",
              "      <td>128.000000</td>\n",
              "      <td>128.000000</td>\n",
              "      <td>128.000000</td>\n",
              "      <td>128.000000</td>\n",
              "      <td>128.000000</td>\n",
              "    </tr>\n",
              "    <tr>\n",
              "      <th>mean</th>\n",
              "      <td>1.320312</td>\n",
              "      <td>4.718750</td>\n",
              "      <td>82.554688</td>\n",
              "      <td>0.500000</td>\n",
              "      <td>31.185938</td>\n",
              "      <td>1.343750</td>\n",
              "    </tr>\n",
              "    <tr>\n",
              "      <th>std</th>\n",
              "      <td>1.156519</td>\n",
              "      <td>2.446072</td>\n",
              "      <td>5.933766</td>\n",
              "      <td>0.501965</td>\n",
              "      <td>13.977404</td>\n",
              "      <td>6.336294</td>\n",
              "    </tr>\n",
              "    <tr>\n",
              "      <th>min</th>\n",
              "      <td>0.000000</td>\n",
              "      <td>0.000000</td>\n",
              "      <td>67.000000</td>\n",
              "      <td>0.000000</td>\n",
              "      <td>0.000000</td>\n",
              "      <td>-17.000000</td>\n",
              "    </tr>\n",
              "    <tr>\n",
              "      <th>25%</th>\n",
              "      <td>0.000000</td>\n",
              "      <td>3.000000</td>\n",
              "      <td>79.000000</td>\n",
              "      <td>0.000000</td>\n",
              "      <td>23.100000</td>\n",
              "      <td>-3.000000</td>\n",
              "    </tr>\n",
              "    <tr>\n",
              "      <th>50%</th>\n",
              "      <td>1.000000</td>\n",
              "      <td>5.000000</td>\n",
              "      <td>83.000000</td>\n",
              "      <td>0.500000</td>\n",
              "      <td>31.800000</td>\n",
              "      <td>2.000000</td>\n",
              "    </tr>\n",
              "    <tr>\n",
              "      <th>75%</th>\n",
              "      <td>2.000000</td>\n",
              "      <td>6.000000</td>\n",
              "      <td>87.000000</td>\n",
              "      <td>1.000000</td>\n",
              "      <td>38.500000</td>\n",
              "      <td>5.000000</td>\n",
              "    </tr>\n",
              "    <tr>\n",
              "      <th>max</th>\n",
              "      <td>6.000000</td>\n",
              "      <td>11.000000</td>\n",
              "      <td>94.000000</td>\n",
              "      <td>1.000000</td>\n",
              "      <td>75.000000</td>\n",
              "      <td>17.000000</td>\n",
              "    </tr>\n",
              "  </tbody>\n",
              "</table>\n",
              "</div>"
            ],
            "text/plain": [
              "       Goal Scored     Corners  ...  Efficient Attempts  Fouls Advantage\n",
              "count   128.000000  128.000000  ...          128.000000       128.000000\n",
              "mean      1.320312    4.718750  ...           31.185938         1.343750\n",
              "std       1.156519    2.446072  ...           13.977404         6.336294\n",
              "min       0.000000    0.000000  ...            0.000000       -17.000000\n",
              "25%       0.000000    3.000000  ...           23.100000        -3.000000\n",
              "50%       1.000000    5.000000  ...           31.800000         2.000000\n",
              "75%       2.000000    6.000000  ...           38.500000         5.000000\n",
              "max       6.000000   11.000000  ...           75.000000        17.000000\n",
              "\n",
              "[8 rows x 6 columns]"
            ]
          },
          "metadata": {
            "tags": []
          },
          "execution_count": 15
        }
      ]
    },
    {
      "cell_type": "markdown",
      "metadata": {
        "id": "Sl6q_qaPVweL"
      },
      "source": [
        "### **Data Visualization**"
      ]
    },
    {
      "cell_type": "code",
      "metadata": {
        "id": "uMgJmoSQJoSF"
      },
      "source": [
        "# Visualizing correlation between features using pairplot\r\n",
        "\r\n",
        "#sns.pairplot(training_features, size=2);"
      ],
      "execution_count": null,
      "outputs": []
    },
    {
      "cell_type": "code",
      "metadata": {
        "colab": {
          "base_uri": "https://localhost:8080/",
          "height": 619
        },
        "id": "ltjAFuKyV1yx",
        "outputId": "eaafb53e-b814-472b-c0d6-1b09f45b0d52"
      },
      "source": [
        "# Visualizing correlation between features using heatmap\r\n",
        "\r\n",
        "corr = training_features.corr()\r\n",
        "plt.figure(figsize=(10,8))\r\n",
        "sns.heatmap(corr, vmax=.8, linewidths=0.01, square=False, annot=True, cmap='YlGnBu', linecolor='Black')\r\n",
        "plt.title('Correlation between features');"
      ],
      "execution_count": null,
      "outputs": [
        {
          "output_type": "display_data",
          "data": {
            "image/png": "[encoded data removed]",
            "text/plain": [
              "<Figure size 720x576 with 2 Axes>"
            ]
          },
          "metadata": {
            "tags": [],
            "needs_background": "light"
          }
        }
      ]
    },
    {
      "cell_type": "markdown",
      "metadata": {
        "id": "-I6LR6fqFuBW"
      },
      "source": [
        "## **Machine Learning**"
      ]
    },
    {
      "cell_type": "markdown",
      "metadata": {
        "id": "Jy8TCnjnfxQj"
      },
      "source": [
        "\r\n",
        "### **Prepare Data for ML**\r\n",
        "- Scale the numeric features with `StandardScaler`.\r\n",
        "- OHE columns `[]`.\r\n",
        "- Check target variable distribution."
      ]
    },
    {
      "cell_type": "code",
      "metadata": {
        "id": "52OySnKrNvgk"
      },
      "source": [
        "# Identifying feature names\r\n",
        "\r\n",
        "numeric_feature_names = ['Goal Scored', 'Corners', 'Pass Accuracy %', 'Efficient Attempts', 'Fouls Advantage']\r\n",
        "categorical_feature_names = []"
      ],
      "execution_count": null,
      "outputs": []
    },
    {
      "cell_type": "code",
      "metadata": {
        "colab": {
          "base_uri": "https://localhost:8080/",
          "height": 195
        },
        "id": "Jnoyw6vMcHDr",
        "outputId": "16d2789f-5498-4784-b85c-01366c71ef80"
      },
      "source": [
        "# Scaling/Normalization\r\n",
        "from sklearn.preprocessing import StandardScaler\r\n",
        "\r\n",
        "scaler = StandardScaler()\r\n",
        "scaler.fit(training_features[numeric_feature_names])\r\n",
        "training_features[numeric_feature_names] = scaler.transform(training_features[numeric_feature_names])\r\n",
        "training_features.head()"
      ],
      "execution_count": null,
      "outputs": [
        {
          "output_type": "execute_result",
          "data": {
            "text/html": [
              "<div>\n",
              "<style scoped>\n",
              "    .dataframe tbody tr th:only-of-type {\n",
              "        vertical-align: middle;\n",
              "    }\n",
              "\n",
              "    .dataframe tbody tr th {\n",
              "        vertical-align: top;\n",
              "    }\n",
              "\n",
              "    .dataframe thead th {\n",
              "        text-align: right;\n",
              "    }\n",
              "</style>\n",
              "<table border=\"1\" class=\"dataframe\">\n",
              "  <thead>\n",
              "    <tr style=\"text-align: right;\">\n",
              "      <th></th>\n",
              "      <th>Goal Scored</th>\n",
              "      <th>Corners</th>\n",
              "      <th>Pass Accuracy %</th>\n",
              "      <th>Man of the Match</th>\n",
              "      <th>Efficient Attempts</th>\n",
              "      <th>Fouls Advantage</th>\n",
              "    </tr>\n",
              "  </thead>\n",
              "  <tbody>\n",
              "    <tr>\n",
              "      <th>0</th>\n",
              "      <td>3.194193</td>\n",
              "      <td>0.525857</td>\n",
              "      <td>-0.770604</td>\n",
              "      <td>1</td>\n",
              "      <td>1.624259</td>\n",
              "      <td>-1.955757</td>\n",
              "    </tr>\n",
              "    <tr>\n",
              "      <th>1</th>\n",
              "      <td>-1.146112</td>\n",
              "      <td>-1.115843</td>\n",
              "      <td>0.582910</td>\n",
              "      <td>0</td>\n",
              "      <td>-2.239935</td>\n",
              "      <td>2.163711</td>\n",
              "    </tr>\n",
              "    <tr>\n",
              "      <th>2</th>\n",
              "      <td>-1.146112</td>\n",
              "      <td>-1.936693</td>\n",
              "      <td>-0.770604</td>\n",
              "      <td>0</td>\n",
              "      <td>0.453509</td>\n",
              "      <td>-1.005111</td>\n",
              "    </tr>\n",
              "    <tr>\n",
              "      <th>3</th>\n",
              "      <td>-0.278051</td>\n",
              "      <td>0.115432</td>\n",
              "      <td>0.582910</td>\n",
              "      <td>1</td>\n",
              "      <td>-0.185735</td>\n",
              "      <td>0.896182</td>\n",
              "    </tr>\n",
              "    <tr>\n",
              "      <th>4</th>\n",
              "      <td>-1.146112</td>\n",
              "      <td>0.115432</td>\n",
              "      <td>0.582910</td>\n",
              "      <td>0</td>\n",
              "      <td>-0.580774</td>\n",
              "      <td>-1.480434</td>\n",
              "    </tr>\n",
              "  </tbody>\n",
              "</table>\n",
              "</div>"
            ],
            "text/plain": [
              "   Goal Scored   Corners  ...  Efficient Attempts  Fouls Advantage\n",
              "0     3.194193  0.525857  ...            1.624259        -1.955757\n",
              "1    -1.146112 -1.115843  ...           -2.239935         2.163711\n",
              "2    -1.146112 -1.936693  ...            0.453509        -1.005111\n",
              "3    -0.278051  0.115432  ...           -0.185735         0.896182\n",
              "4    -1.146112  0.115432  ...           -0.580774        -1.480434\n",
              "\n",
              "[5 rows x 6 columns]"
            ]
          },
          "metadata": {
            "tags": []
          },
          "execution_count": 19
        }
      ]
    },
    {
      "cell_type": "code",
      "metadata": {
        "id": "CEtVyC2FM9RI"
      },
      "source": [
        "# OHE\r\n",
        "\r\n",
        "#training_features = pd.get_dummies(training_features, columns=categorical_feature_names, drop_first=True)\r\n",
        "#training_features.head(2)"
      ],
      "execution_count": null,
      "outputs": []
    },
    {
      "cell_type": "code",
      "metadata": {
        "id": "FkXI2GCIRHjZ"
      },
      "source": [
        "# Check target variable distribution\r\n",
        "\r\n",
        "training_features['Man of the Match'].value_counts()"
      ],
      "execution_count": null,
      "outputs": []
    },
    {
      "cell_type": "markdown",
      "metadata": {
        "id": "6DhFfIQ1Nc50"
      },
      "source": [
        "### **Splitting Data**\r\n",
        "\r\n",
        "- Split `training_features` into `X` and `y` and further to train and test datasets.\r\n",
        "- `test_size = 0.2`\r\n",
        "- `random_state = 63`"
      ]
    },
    {
      "cell_type": "code",
      "metadata": {
        "colab": {
          "base_uri": "https://localhost:8080/",
          "height": 106
        },
        "id": "Yr8WjDVi3BwG",
        "outputId": "a30d175e-6860-446b-c27b-b1e5ae2d709a"
      },
      "source": [
        "# Split training features into X & y using pandas)\r\n",
        "\r\n",
        "X = training_features.loc[:, training_features.columns != 'Man of the Match']\r\n",
        "y = training_features['Man of the Match']\r\n",
        "X.head(2)"
      ],
      "execution_count": null,
      "outputs": [
        {
          "output_type": "execute_result",
          "data": {
            "text/html": [
              "<div>\n",
              "<style scoped>\n",
              "    .dataframe tbody tr th:only-of-type {\n",
              "        vertical-align: middle;\n",
              "    }\n",
              "\n",
              "    .dataframe tbody tr th {\n",
              "        vertical-align: top;\n",
              "    }\n",
              "\n",
              "    .dataframe thead th {\n",
              "        text-align: right;\n",
              "    }\n",
              "</style>\n",
              "<table border=\"1\" class=\"dataframe\">\n",
              "  <thead>\n",
              "    <tr style=\"text-align: right;\">\n",
              "      <th></th>\n",
              "      <th>Goal Scored</th>\n",
              "      <th>Corners</th>\n",
              "      <th>Pass Accuracy %</th>\n",
              "      <th>Efficient Attempts</th>\n",
              "      <th>Fouls Advantage</th>\n",
              "    </tr>\n",
              "  </thead>\n",
              "  <tbody>\n",
              "    <tr>\n",
              "      <th>0</th>\n",
              "      <td>3.194193</td>\n",
              "      <td>0.525857</td>\n",
              "      <td>-0.770604</td>\n",
              "      <td>1.624259</td>\n",
              "      <td>-1.955757</td>\n",
              "    </tr>\n",
              "    <tr>\n",
              "      <th>1</th>\n",
              "      <td>-1.146112</td>\n",
              "      <td>-1.115843</td>\n",
              "      <td>0.582910</td>\n",
              "      <td>-2.239935</td>\n",
              "      <td>2.163711</td>\n",
              "    </tr>\n",
              "  </tbody>\n",
              "</table>\n",
              "</div>"
            ],
            "text/plain": [
              "   Goal Scored   Corners  Pass Accuracy %  Efficient Attempts  Fouls Advantage\n",
              "0     3.194193  0.525857        -0.770604            1.624259        -1.955757\n",
              "1    -1.146112 -1.115843         0.582910           -2.239935         2.163711"
            ]
          },
          "metadata": {
            "tags": []
          },
          "execution_count": 21
        }
      ]
    },
    {
      "cell_type": "code",
      "metadata": {
        "colab": {
          "base_uri": "https://localhost:8080/"
        },
        "id": "1sgqR6_zSuIY",
        "outputId": "eff1e6c3-53c6-46bf-c5c9-57810939d10a"
      },
      "source": [
        "# Split X & y for training and testing\r\n",
        "from sklearn.model_selection import train_test_split\r\n",
        "\r\n",
        "X_train, X_test, y_train, y_test = train_test_split(X, y, test_size=0.2 , random_state=0)\r\n",
        "print('Train dataset shape: {} {}'.format(X_train.shape, y_train.shape))\r\n",
        "print('Test dataset shape: {} {}'.format(X_test.shape, y_test.shape))"
      ],
      "execution_count": null,
      "outputs": [
        {
          "output_type": "stream",
          "text": [
            "Train dataset shape: (102, 5) (102,)\n",
            "Test dataset shape: (26, 5) (26,)\n"
          ],
          "name": "stdout"
        }
      ]
    },
    {
      "cell_type": "markdown",
      "metadata": {
        "id": "adoLhiNhUBm9"
      },
      "source": [
        "### **Define Model**"
      ]
    },
    {
      "cell_type": "code",
      "metadata": {
        "id": "9DT0AtlgTfTD"
      },
      "source": [
        "# Model selection\r\n",
        "from sklearn.linear_model import LogisticRegression\r\n",
        "from sklearn.tree import DecisionTreeClassifier\r\n",
        "from sklearn.model_selection import GridSearchCV, RandomizedSearchCV\r\n",
        "from sklearn.ensemble import RandomForestClassifier\r\n"
      ],
      "execution_count": null,
      "outputs": []
    },
    {
      "cell_type": "code",
      "metadata": {
        "colab": {
          "base_uri": "https://localhost:8080/"
        },
        "id": "XCCWa4D2R6WK",
        "outputId": "35bd22d0-ae5f-4c72-eb26-5a0a98dbe4f7"
      },
      "source": [
        "model_1 = LogisticRegression(random_state=0)\r\n",
        "model_1.fit(X_train, y_train)"
      ],
      "execution_count": null,
      "outputs": [
        {
          "output_type": "execute_result",
          "data": {
            "text/plain": [
              "LogisticRegression(C=1.0, class_weight=None, dual=False, fit_intercept=True,\n",
              "                   intercept_scaling=1, l1_ratio=None, max_iter=100,\n",
              "                   multi_class='auto', n_jobs=None, penalty='l2',\n",
              "                   random_state=0, solver='lbfgs', tol=0.0001, verbose=0,\n",
              "                   warm_start=False)"
            ]
          },
          "metadata": {
            "tags": []
          },
          "execution_count": 24
        }
      ]
    },
    {
      "cell_type": "code",
      "metadata": {
        "colab": {
          "base_uri": "https://localhost:8080/"
        },
        "id": "7hl_uNHACcI6",
        "outputId": "43e2739d-21d2-4671-d1cf-5bc594317ef1"
      },
      "source": [
        "model_2 = DecisionTreeClassifier(random_state=0)\r\n",
        "model_2.fit(X_train, y_train)"
      ],
      "execution_count": null,
      "outputs": [
        {
          "output_type": "execute_result",
          "data": {
            "text/plain": [
              "DecisionTreeClassifier(ccp_alpha=0.0, class_weight=None, criterion='gini',\n",
              "                       max_depth=None, max_features=None, max_leaf_nodes=None,\n",
              "                       min_impurity_decrease=0.0, min_impurity_split=None,\n",
              "                       min_samples_leaf=1, min_samples_split=2,\n",
              "                       min_weight_fraction_leaf=0.0, presort='deprecated',\n",
              "                       random_state=0, splitter='best')"
            ]
          },
          "metadata": {
            "tags": []
          },
          "execution_count": 25
        }
      ]
    },
    {
      "cell_type": "code",
      "metadata": {
        "colab": {
          "base_uri": "https://localhost:8080/"
        },
        "id": "cLn2PR5zCYLA",
        "outputId": "6144d732-7896-45cc-be2f-cc753a19803c"
      },
      "source": [
        "model_3 = RandomForestClassifier(random_state=0)\r\n",
        "model_3.fit(X_train, y_train)"
      ],
      "execution_count": null,
      "outputs": [
        {
          "output_type": "execute_result",
          "data": {
            "text/plain": [
              "RandomForestClassifier(bootstrap=True, ccp_alpha=0.0, class_weight=None,\n",
              "                       criterion='gini', max_depth=None, max_features='auto',\n",
              "                       max_leaf_nodes=None, max_samples=None,\n",
              "                       min_impurity_decrease=0.0, min_impurity_split=None,\n",
              "                       min_samples_leaf=1, min_samples_split=2,\n",
              "                       min_weight_fraction_leaf=0.0, n_estimators=100,\n",
              "                       n_jobs=None, oob_score=False, random_state=0, verbose=0,\n",
              "                       warm_start=False)"
            ]
          },
          "metadata": {
            "tags": []
          },
          "execution_count": 26
        }
      ]
    },
    {
      "cell_type": "markdown",
      "metadata": {
        "id": "3XdzGppxURB1"
      },
      "source": [
        "### **Model Prediction**\r\n"
      ]
    },
    {
      "cell_type": "code",
      "metadata": {
        "id": "oTJhFu50UeGH"
      },
      "source": [
        "# Model prediction on test dataset (X_test)\r\n",
        "\r\n",
        "y_pred_model_1 = model_1.predict(X_test)\r\n",
        "y_pred_model_2 = model_2.predict(X_test)\r\n",
        "y_pred_model_3 = model_3.predict(X_test)"
      ],
      "execution_count": null,
      "outputs": []
    },
    {
      "cell_type": "markdown",
      "metadata": {
        "id": "Xsp-frLbUxqL"
      },
      "source": [
        "### **Model Evaluation**"
      ]
    },
    {
      "cell_type": "code",
      "metadata": {
        "id": "_QUZrKBzUxIy"
      },
      "source": [
        "# Model Evaluation\r\n",
        "from sklearn.metrics import accuracy_score, precision_score, recall_score, f1_score, confusion_matrix, classification_report\r\n",
        "\r\n",
        "models = []\r\n",
        "accuracy_scores = []\r\n",
        "precision_scores = []\r\n",
        "recall_scores = []\r\n",
        "f1_scores = []\r\n",
        "\r\n",
        "def model_evaluation_score(y_actual, y_preds, model_name):\r\n",
        "    models.append(model_name)\r\n",
        "    print('Accuracy  : ', accuracy_score(y_actual, y_preds))\r\n",
        "    accuracy_scores.append(accuracy_score(y_actual, y_preds))\r\n",
        "    print('Precision : ', precision_score(y_actual, y_preds))\r\n",
        "    precision_scores.append(precision_score(y_actual, y_preds))\r\n",
        "    print('Recall    : ', recall_score(y_actual, y_preds))\r\n",
        "    recall_scores.append(recall_score(y_actual, y_preds))\r\n",
        "    print('f1 score : ', f1_score(y_actual, y_preds))\r\n",
        "    f1_scores.append(f1_score(y_actual, y_preds))\r\n",
        "    \r\n",
        "def display_confusion_matrix(y_actual, y_preds):\r\n",
        "    Confusion_Matrix = pd.DataFrame(confusion_matrix(y_actual, y_preds))\r\n",
        "    Confusion_Matrix.index = ['Actual False', 'Actual True']\r\n",
        "    Confusion_Matrix.columns = ['Predicted False', 'Predicted True']\r\n",
        "    print(Confusion_Matrix)\r\n"
      ],
      "execution_count": null,
      "outputs": []
    },
    {
      "cell_type": "code",
      "metadata": {
        "colab": {
          "base_uri": "https://localhost:8080/"
        },
        "id": "ak5sYhojQm4v",
        "outputId": "45e218f5-007c-4ff2-df57-6bac9179018a"
      },
      "source": [
        "print('Logistic Regression:')\r\n",
        "model_evaluation_score(y_test, y_pred_model_1, 'Logistic Regression')"
      ],
      "execution_count": null,
      "outputs": [
        {
          "output_type": "stream",
          "text": [
            "Logistic Regression:\n",
            "Accuracy  :  0.6538461538461539\n",
            "Precision :  0.7142857142857143\n",
            "Recall    :  0.6666666666666666\n",
            "f1 score :  0.689655172413793\n"
          ],
          "name": "stdout"
        }
      ]
    },
    {
      "cell_type": "code",
      "metadata": {
        "colab": {
          "base_uri": "https://localhost:8080/"
        },
        "id": "jImc1RrwSsQZ",
        "outputId": "a3d62b3e-f6fa-44c1-ea7d-dba8f3669a05"
      },
      "source": [
        "print('Decision Tree:')\r\n",
        "model_evaluation_score(y_test, y_pred_model_2, 'Decision Tree')"
      ],
      "execution_count": null,
      "outputs": [
        {
          "output_type": "stream",
          "text": [
            "Decision Tree:\n",
            "Accuracy  :  0.6923076923076923\n",
            "Precision :  0.7058823529411765\n",
            "Recall    :  0.8\n",
            "f1 score :  0.7500000000000001\n"
          ],
          "name": "stdout"
        }
      ]
    },
    {
      "cell_type": "code",
      "metadata": {
        "colab": {
          "base_uri": "https://localhost:8080/"
        },
        "id": "8At3OdLIQojL",
        "outputId": "312b520b-5900-4b86-e6f6-414da578d054"
      },
      "source": [
        "print('Random Forest:')\r\n",
        "model_evaluation_score(y_test, y_pred_model_3, 'Random Forest')"
      ],
      "execution_count": null,
      "outputs": [
        {
          "output_type": "stream",
          "text": [
            "Random Forest:\n",
            "Accuracy  :  0.6538461538461539\n",
            "Precision :  0.6666666666666666\n",
            "Recall    :  0.8\n",
            "f1 score :  0.7272727272727272\n"
          ],
          "name": "stdout"
        }
      ]
    },
    {
      "cell_type": "code",
      "metadata": {
        "colab": {
          "base_uri": "https://localhost:8080/",
          "height": 136
        },
        "id": "7O2UL0cQZXnS",
        "outputId": "2ab6faad-286b-42c8-8afa-ec736fee703b"
      },
      "source": [
        "# Model evaluation scores with pandas dataframe\r\n",
        "\r\n",
        "model_evaluation_data = {\r\n",
        "    'Model' : models,\r\n",
        "    'Accuracy' : accuracy_scores,\r\n",
        "    'Precision' : precision_scores,\r\n",
        "    'Recall' : recall_scores,\r\n",
        "    'F1 score' : f1_scores\r\n",
        "}\r\n",
        "\r\n",
        "model_evaluation_df = pd.DataFrame(model_evaluation_data) \r\n",
        "\r\n",
        "model_evaluation_df"
      ],
      "execution_count": null,
      "outputs": [
        {
          "output_type": "execute_result",
          "data": {
            "text/html": [
              "<div>\n",
              "<style scoped>\n",
              "    .dataframe tbody tr th:only-of-type {\n",
              "        vertical-align: middle;\n",
              "    }\n",
              "\n",
              "    .dataframe tbody tr th {\n",
              "        vertical-align: top;\n",
              "    }\n",
              "\n",
              "    .dataframe thead th {\n",
              "        text-align: right;\n",
              "    }\n",
              "</style>\n",
              "<table border=\"1\" class=\"dataframe\">\n",
              "  <thead>\n",
              "    <tr style=\"text-align: right;\">\n",
              "      <th></th>\n",
              "      <th>Model</th>\n",
              "      <th>Accuracy</th>\n",
              "      <th>Precision</th>\n",
              "      <th>Recall</th>\n",
              "      <th>F1 score</th>\n",
              "    </tr>\n",
              "  </thead>\n",
              "  <tbody>\n",
              "    <tr>\n",
              "      <th>0</th>\n",
              "      <td>Logistic Regression</td>\n",
              "      <td>0.653846</td>\n",
              "      <td>0.714286</td>\n",
              "      <td>0.666667</td>\n",
              "      <td>0.689655</td>\n",
              "    </tr>\n",
              "    <tr>\n",
              "      <th>1</th>\n",
              "      <td>Decision Tree</td>\n",
              "      <td>0.692308</td>\n",
              "      <td>0.705882</td>\n",
              "      <td>0.800000</td>\n",
              "      <td>0.750000</td>\n",
              "    </tr>\n",
              "    <tr>\n",
              "      <th>2</th>\n",
              "      <td>Random Forest</td>\n",
              "      <td>0.653846</td>\n",
              "      <td>0.666667</td>\n",
              "      <td>0.800000</td>\n",
              "      <td>0.727273</td>\n",
              "    </tr>\n",
              "  </tbody>\n",
              "</table>\n",
              "</div>"
            ],
            "text/plain": [
              "                 Model  Accuracy  Precision    Recall  F1 score\n",
              "0  Logistic Regression  0.653846   0.714286  0.666667  0.689655\n",
              "1        Decision Tree  0.692308   0.705882  0.800000  0.750000\n",
              "2        Random Forest  0.653846   0.666667  0.800000  0.727273"
            ]
          },
          "metadata": {
            "tags": []
          },
          "execution_count": 32
        }
      ]
    },
    {
      "cell_type": "markdown",
      "metadata": {
        "id": "qMHX-3W4Dw4x"
      },
      "source": [
        "## **Finalize Model**\r\n",
        "\r\n",
        "After experimenting with the classification models, for Fifa 2018 to predict the Man of the Match award, **Decision Tree Model** performs the best with  \r\n",
        "- **Accuracy = 69.2%** \r\n",
        "- **F1 score = 75%**.\r\n"
      ]
    },
    {
      "cell_type": "markdown",
      "metadata": {
        "id": "vDaugh-n5ZA-"
      },
      "source": [
        "## **Save and Commit**\r\n",
        "\r\n",
        "I prefer committing my notebook versions to **Jovian**, for easy reference and comparison."
      ]
    },
    {
      "cell_type": "code",
      "metadata": {
        "id": "aN6_Q1JeA7em"
      },
      "source": [
        "!pip install jovian --upgrade --quiet"
      ],
      "execution_count": null,
      "outputs": []
    },
    {
      "cell_type": "code",
      "metadata": {
        "id": "IfoaYzCa6Utx"
      },
      "source": [
        "import jovian"
      ],
      "execution_count": null,
      "outputs": []
    },
    {
      "cell_type": "code",
      "metadata": {
        "colab": {
          "base_uri": "https://localhost:8080/",
          "height": 102
        },
        "id": "Wl6HDf3j6XsP",
        "outputId": "aafb9cfc-da93-44d7-d564-0e83ec423d19"
      },
      "source": [
        "jovian.commit()"
      ],
      "execution_count": null,
      "outputs": [
        {
          "output_type": "stream",
          "text": [
            "[jovian] Detected Colab notebook...\u001b[0m\n",
            "[jovian] Uploading colab notebook to Jovian...\u001b[0m\n",
            "[jovian] Capturing environment..\u001b[0m\n",
            "[jovian] Committed successfully! https://jovian.ai/rayankazi/man-of-the-match-fifa-2018\u001b[0m\n"
          ],
          "name": "stdout"
        },
        {
          "output_type": "execute_result",
          "data": {
            "application/vnd.google.colaboratory.intrinsic+json": {
              "type": "string"
            },
            "text/plain": [
              "'https://jovian.ai/rayankazi/man-of-the-match-fifa-2018'"
            ]
          },
          "metadata": {
            "tags": []
          },
          "execution_count": 35
        }
      ]
    },
    {
      "cell_type": "code",
      "metadata": {
        "id": "lsxbmy9-6ZtZ"
      },
      "source": [
        ""
      ],
      "execution_count": null,
      "outputs": []
    }
  ]
}